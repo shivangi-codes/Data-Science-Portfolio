

{
 "cells": [
  {
   "cell_type": "code",
   "execution_count": 1,
   "id": "01c6fe2c",
   "metadata": {},
   "outputs": [],
   "source": [
    "import numpy as np\n",
    "from scipy.stats import chi2_contingency\n"
   ]
  },
  {
   "cell_type": "code",
   "execution_count": 3,
   "id": "32398913",
   "metadata": {},
   "outputs": [],
   "source": [
    "# Contingency table\n",
    "observed = np.array([[50, 70],\n",
    "                     [80, 100],\n",
    "                     [60, 90],\n",
    "                     [30, 50],\n",
    "                     [20, 50]])\n",
    "\n",
    "# Adding row and column totals\n",
    "row_totals = np.sum(observed, axis=1)\n",
    "col_totals = np.sum(observed, axis=0)\n",
    "total = np.sum(observed)\n"
   ]
  },
  {
   "cell_type": "code",
   "execution_count": 4,
   "id": "e4e514cd",
   "metadata": {},
   "outputs": [],
   "source": [
    "#1. State the Hypotheses:\n",
    "\n",
    "#Null Hypothesis (H0): There is no significant association between the type of smart home device purchased and the customer satisfaction level.\n",
    "#Alternative Hypothesis (H1): There is a significant association between the type of smart home device purchased and the customer satisfaction level."
   ]
  },
  {
   "cell_type": "code",
   "execution_count": 5,
   "id": "fcf2f844",
   "metadata": {},
   "outputs": [
    {
     "name": "stdout",
     "output_type": "stream",
     "text": [
      "Chi-Square Statistic: 5.638227513227513\n"
     ]
    }
   ],
   "source": [
    "# Compute expected frequencies\n",
    "expected = np.outer(row_totals, col_totals) / total\n",
    "\n",
    "# Calculate Chi-Square statistic\n",
    "chi2_statistic = np.sum((observed - expected)**2 / expected)\n",
    "print(\"Chi-Square Statistic:\", chi2_statistic)\n"
   ]
  },
  {
   "cell_type": "code",
   "execution_count": 6,
   "id": "4d8a20a0",
   "metadata": {},
   "outputs": [
    {
     "name": "stdout",
     "output_type": "stream",
     "text": [
      "Critical Value: 0.22784371130697179\n"
     ]
    }
   ],
   "source": [
    "# Degrees of freedom\n",
    "degrees_of_freedom = (observed.shape[0] - 1) * (observed.shape[1] - 1)\n",
    "\n",
    "# Critical value\n",
    "alpha = 0.05\n",
    "critical_value = chi2_contingency(observed)[1]\n",
    "print(\"Critical Value:\", critical_value)\n"
   ]
  },
  {
   "cell_type": "code",
   "execution_count": 7,
   "id": "736df8e3",
   "metadata": {},
   "outputs": [
    {
     "name": "stdout",
     "output_type": "stream",
     "text": [
      "Reject the null hypothesis. There is a significant association between device type and customer satisfaction level.\n"
     ]
    }
   ],
   "source": [
    "# Decision\n",
    "if chi2_statistic > critical_value:\n",
    "    print(\"Reject the null hypothesis. There is a significant association between device type and customer satisfaction level.\")\n",
    "else:\n",
    "    print(\"Fail to reject the null hypothesis. There is no significant association between device type and customer satisfaction level.\")\n"
   ]
  },
  {
   "cell_type": "code",
   "execution_count": null,
   "id": "3c9037e5",
   "metadata": {},
   "outputs": [],
   "source": []
  }
 ],
 "metadata": {
  "kernelspec": {
   "display_name": "Python 3 (ipykernel)",
   "language": "python",
   "name": "python3"
  },
  "language_info": {
   "codemirror_mode": {
    "name": "ipython",
    "version": 3
   },
   "file_extension": ".py",
   "mimetype": "text/x-python",
   "name": "python",
   "nbconvert_exporter": "python",
   "pygments_lexer": "ipython3",
   "version": "3.11.5"
  }
 },
 "nbformat": 4,
 "nbformat_minor": 5
}
