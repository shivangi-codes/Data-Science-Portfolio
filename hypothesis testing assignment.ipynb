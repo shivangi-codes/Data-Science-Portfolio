{
 "cells": [
  {
   "cell_type": "code",
   "execution_count": 1,
   "id": "7024f608",
   "metadata": {},
   "outputs": [
    {
     "ename": "SyntaxError",
     "evalue": "invalid decimal literal (631023201.py, line 3)",
     "output_type": "error",
     "traceback": [
      "\u001b[1;36m  Cell \u001b[1;32mIn[1], line 3\u001b[1;36m\u001b[0m\n\u001b[1;33m    franchises, with a theoretical weekly operating cost determined by (W = 1,000 + $5X), where (X) represents\u001b[0m\n\u001b[1;37m                                                                                     ^\u001b[0m\n\u001b[1;31mSyntaxError\u001b[0m\u001b[1;31m:\u001b[0m invalid decimal literal\n"
     ]
    }
   ],
   "source": [
    "In hypothesis testing, the aim is to assess whether observed data provides enough evidence to reject a null hypothesis\n",
    "in favor of an alternative hypothesis. In this scenario, Bombay Hospitality Ltd. operates on a cost model for its \n",
    "franchises, with a theoretical weekly operating cost determined by (W = 1,000 + 5X), where (X) represents \n",
    "the number of units produced. Restaurant owners claim that actual weekly operating costs exceed those predicted by \n",
    "the model. To test this claim, a sample of 25 restaurants is taken, revealing a mean weekly cost of Rs. 3,050. \n",
    "A one-tailed t-test is conducted, comparing the observed mean with the theoretical mean calculated from the cost model. \n",
    "The test statistic, (t), is computed using the sample mean, theoretical mean, standard deviation, and sample size.\n",
    "By comparing this statistic to the critical value from the t-distribution at a significance level of 0.05, a decision\n",
    "is made regarding the null hypothesis. If the test statistic exceeds the critical value, the null hypothesis is rejected, \n",
    "providing evidence that weekly operating costs are indeed higher than predicted by the model. Conversely, \n",
    "if the test statistic falls below the critical value, there is insufficient evidence to support the claim, \n",
    "and the null hypothesis is retained."
   ]
  },
  {
   "cell_type": "code",
   "execution_count": 2,
   "id": "4c22fa1f",
   "metadata": {},
   "outputs": [
    {
     "name": "stdout",
     "output_type": "stream",
     "text": [
      "t-statistic: -38.0\n",
      "Critical Value: 1.7108820799094275\n",
      "Fail to reject the null hypothesis. There is not enough evidence to suggest that the weekly operating costs are higher than the model suggests.\n"
     ]
    }
   ],
   "source": [
    "import numpy as np\n",
    "from scipy.stats import t\n",
    "\n",
    "# Given data\n",
    "sample_mean = 3050  # sample mean weekly cost (Rs.)\n",
    "theoretical_mean = 1000 + 5 * 600  # theoretical mean weekly cost according to the cost model (Rs.)\n",
    "standard_deviation = 5 * 25  # standard deviation (Rs.)\n",
    "sample_size = 25  # sample size\n",
    "\n",
    "# 1. State the Hypotheses statement:\n",
    "# Null Hypothesis (H0): The weekly operating costs are as per the theoretical model.\n",
    "# Alternative Hypothesis (H1): The weekly operating costs are higher than what the model suggests.\n",
    "\n",
    "# 2. Calculate the Test Statistic:\n",
    "# Calculate the t-statistic\n",
    "t_statistic = (sample_mean - theoretical_mean) / (standard_deviation / np.sqrt(sample_size))\n",
    "print(\"t-statistic:\", t_statistic)\n",
    "\n",
    "# 3. Determine the Critical Value:\n",
    "# Degrees of freedom\n",
    "degrees_of_freedom = sample_size - 1\n",
    "\n",
    "# Critical value for a one-tailed test at alpha = 0.05\n",
    "alpha = 0.05\n",
    "critical_value = t.ppf(1 - alpha, degrees_of_freedom)\n",
    "print(\"Critical Value:\", critical_value)\n",
    "\n",
    "# 4. Make a Decision:\n",
    "# Decision\n",
    "if t_statistic > critical_value:\n",
    "    print(\"Reject the null hypothesis. There is evidence to suggest that the weekly operating costs are higher than the model suggests.\")\n",
    "else:\n",
    "    print(\"Fail to reject the null hypothesis. There is not enough evidence to suggest that the weekly operating costs are higher than the model suggests.\")\n",
    "\n",
    "# 5. Conclusion:\n",
    "# Based on the decision in step 4, we conclude whether there is strong evidence to support the restaurant owners' claim.\n"
   ]
  },
  {
   "cell_type": "code",
   "execution_count": null,
   "id": "71dde1c8",
   "metadata": {},
   "outputs": [],
   "source": []
  }
 ],
 "metadata": {
  "kernelspec": {
   "display_name": "Python 3 (ipykernel)",
   "language": "python",
   "name": "python3"
  },
  "language_info": {
   "codemirror_mode": {
    "name": "ipython",
    "version": 3
   },
   "file_extension": ".py",
   "mimetype": "text/x-python",
   "name": "python",
   "nbconvert_exporter": "python",
   "pygments_lexer": "ipython3",
   "version": "3.11.5"
  }
 },
 "nbformat": 4,
 "nbformat_minor": 5
}
