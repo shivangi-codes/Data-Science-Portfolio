{
 "cells": [
  {
   "cell_type": "markdown",
   "id": "05fb8f9b",
   "metadata": {},
   "source": [
    "We use the t-distribution because the population standard deviation is unknown and we're using the sample standard\n",
    "deviation to estimate it.\n",
    "The critical value t is determined from the t-distribution table at a 99% confidence level with df=15−1=14 degrees \n",
    "of freedom.\n",
    "We calculate the margin of error using the formula for a t-distribution.\n",
    "Finally, we construct the confidence interval using the sample mean and the margin of error."
   ]
  },
  {
   "cell_type": "code",
   "execution_count": 1,
   "id": "e9854979",
   "metadata": {},
   "outputs": [
    {
     "name": "stdout",
     "output_type": "stream",
     "text": [
      "99% Confidence Interval Using Sample Standard Deviation:\n",
      "Confidence Interval: (1.090197338451367, 1.3871359948819662)\n",
      "Sample Mean: 1.2386666666666666\n",
      "Margin of Error: 0.1484693282152996\n"
     ]
    }
   ],
   "source": [
    "import numpy as np\n",
    "from scipy.stats import t\n",
    "\n",
    "# Data\n",
    "durability = np.array([1.13, 1.55, 1.43, 0.92, 1.25, 1.36, 1.32, 0.85, 1.07, 1.48, 1.20, 1.33, 1.18, 1.22, 1.29])\n",
    "\n",
    "# Sample mean and standard deviation\n",
    "n = len(durability)\n",
    "sample_mean = np.mean(durability)\n",
    "sample_std = np.std(durability, ddof=1)  # ddof=1 for sample standard deviation\n",
    "\n",
    "# Calculate the critical value (t_alpha/2)\n",
    "alpha = 0.01  # significance level (1 - confidence level)\n",
    "df = n - 1  # degrees of freedom\n",
    "t_critical = t.ppf(1 - alpha/2, df)\n",
    "\n",
    "# Calculate margin of error\n",
    "margin_of_error = t_critical * (sample_std / np.sqrt(n))\n",
    "\n",
    "# Construct confidence interval\n",
    "confidence_interval = (sample_mean - margin_of_error, sample_mean + margin_of_error)\n",
    "\n",
    "print(\"99% Confidence Interval Using Sample Standard Deviation:\")\n",
    "print(\"Confidence Interval:\", confidence_interval)\n",
    "print(\"Sample Mean:\", sample_mean)\n",
    "print(\"Margin of Error:\", margin_of_error)\n"
   ]
  },
  {
   "cell_type": "markdown",
   "id": "f5692012",
   "metadata": {},
   "source": [
    "to build 99% Confidence Interval Using Known Population Standard Deviation:\n",
    "    \n",
    "Since the population standard deviation (σ) is known, we can use the z-distribution to construct the confidence interval. The steps are similar to the previous case, except we use the z-score instead of the t-score.\n",
    "i hb used the z-distribution because the population standard deviation is known.\n",
    "The critical value z for a 99% confidence level can be looked up from the standard normal distribution table.\n",
    "The margin of error is calculated using the z-score instead of the t-score.\n",
    "Finally, i hv constructed the confidence interval using the sample mean and the margin of error."
   ]
  },
  {
   "cell_type": "code",
   "execution_count": null,
   "id": "dc32b92b",
   "metadata": {},
   "outputs": [],
   "source": [
    "# Population standard deviation\n",
    "population_std = 0.2  # in millions of characters\n",
    "\n",
    "# Calculate z-score for a 99% confidence level\n",
    "z_critical = 2.576  # from standard normal distribution table\n",
    "\n",
    "# Calculate margin of error for known population standard deviation\n",
    "margin_of_error_known_std = z_critical * (population_std / np.sqrt(n))\n",
    "\n",
    "# Construct confidence interval for known population standard deviation\n",
    "confidence_interval_known_std = (sample_mean - margin_of_error_known_std, sample_mean + margin_of_error_known_std)\n",
    "\n",
    "print(\"\\n99% Confidence Interval Using Known Population Standard Deviation:\")\n",
    "print(\"Confidence Interval:\", confidence_interval_known_std)\n",
    "print(\"Sample Mean:\", sample_mean)\n",
    "print(\"Margin of Error (Known Population Std):\", margin_of_error_known_std)\n"
   ]
  },
  {
   "cell_type": "markdown",
   "id": "f3e78d59",
   "metadata": {},
   "source": [
    "I've used a z-score of 2.576 for a 99% confidence level. This value corresponds to the critical value obtained \n",
    "from the standard normal distribution table."
   ]
  }
 ],
 "metadata": {
  "kernelspec": {
   "display_name": "Python 3 (ipykernel)",
   "language": "python",
   "name": "python3"
  },
  "language_info": {
   "codemirror_mode": {
    "name": "ipython",
    "version": 3
   },
   "file_extension": ".py",
   "mimetype": "text/x-python",
   "name": "python",
   "nbconvert_exporter": "python",
   "pygments_lexer": "ipython3",
   "version": "3.11.5"
  }
 },
 "nbformat": 4,
 "nbformat_minor": 5
}
